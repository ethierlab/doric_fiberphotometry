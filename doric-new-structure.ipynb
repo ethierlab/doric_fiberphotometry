{
 "cells": [
  {
   "cell_type": "code",
   "execution_count": 2,
   "metadata": {},
   "outputs": [
    {
     "data": {
      "text/plain": [
       "{'Configurations': {'NC500': {'Antenna01': {'Settings': {'15183700216995841882': {'LED1': {},\n",
       "      'LED2': {},\n",
       "      'Lockin1': {},\n",
       "      'Lockin2': {}}}},\n",
       "   'DIO02': {'Settings': {}},\n",
       "   'GlobalSettings': {},\n",
       "   'SavingSettings': {},\n",
       "   'TimeseriesSettings': {},\n",
       "   'ViewSettings': {}}},\n",
       " 'DataAcquisition': {'NC500': {'Signals': {'Series0001': {'DigitalIO': {'DIO02': {'shape': (9415000,),\n",
       "       'dtype': 'float64'},\n",
       "      'Time': {'shape': (9415000,), 'dtype': 'float64'}},\n",
       "     'Headstage1LockIn': {'Headstage1LockIn1': {'shape': (9230318,),\n",
       "       'dtype': 'float64'},\n",
       "      'Headstage1LockIn2': {'shape': (9230318,), 'dtype': 'float64'},\n",
       "      'Time': {'shape': (9230318,), 'dtype': 'float64'}},\n",
       "     'Headstage1Raw': {'Headstage1Raw': {'shape': (9232320,),\n",
       "       'dtype': 'float64'},\n",
       "      'Time': {'shape': (9232320,), 'dtype': 'float64'}},\n",
       "     'Headstage1State': {'BatteryLevel': {'shape': (19232,),\n",
       "       'dtype': 'float64'},\n",
       "      'SignalStrength': {'shape': (19234,), 'dtype': 'float64'},\n",
       "      'Time': {'shape': (19232,), 'dtype': 'float64'}}}}}}}"
      ]
     },
     "execution_count": 2,
     "metadata": {},
     "output_type": "execute_result"
    }
   ],
   "source": [
    "import h5py\n",
    "\n",
    "# Open the H5 file to inspect its structure\n",
    "# file_path = '/home/coder/project/doric_fiberphotometry/Data/CS258_NAc_CS_WL20p_July24_0001_130628720_incomplete.doric'\n",
    "file_path = '/home/coder/project/doric_fiberphotometry/Data/CS/258_NAc_CS_WL20p_July24_0001_130628720_incomplete.doric'\n",
    "h5_file = h5py.File(file_path, 'r')\n",
    "\n",
    "# Function to recursively explore the structure of the H5 file\n",
    "def explore_h5_structure(h5_group, indent=0):\n",
    "    structure = {}\n",
    "    for key in h5_group.keys():\n",
    "        item = h5_group[key]\n",
    "        if isinstance(item, h5py.Group):\n",
    "            structure[key] = explore_h5_structure(item, indent + 2)\n",
    "        elif isinstance(item, h5py.Dataset):\n",
    "            structure[key] = {\n",
    "                \"shape\": item.shape,\n",
    "                \"dtype\": str(item.dtype)\n",
    "            }\n",
    "    return structure\n",
    "\n",
    "# Explore the root group\n",
    "h5_structure = explore_h5_structure(h5_file)\n",
    "h5_file.close()\n",
    "\n",
    "h5_structure\n"
   ]
  },
  {
   "cell_type": "code",
   "execution_count": 5,
   "metadata": {},
   "outputs": [
    {
     "data": {
      "text/plain": [
       "{'Configurations': {'NC500': {'AIN01': {'Settings': {'LockInAOUT1': {'PowerMeter': {}},\n",
       "     'LockInAOUT2': {'PowerMeter': {}}}},\n",
       "   'AOUT01': {'Settings': {}},\n",
       "   'AOUT02': {'Settings': {}},\n",
       "   'DIO02': {'Settings': {}},\n",
       "   'DIO05': {'Settings': {}},\n",
       "   'DIO06': {'Settings': {}},\n",
       "   'GlobalSettings': {},\n",
       "   'SavingSettings': {},\n",
       "   'TimeseriesSettings': {},\n",
       "   'ViewSettings': {}}},\n",
       " 'DataAcquisition': {'NC500': {'Signals': {'Series0001': {'AnalogIn': {'AIN01': {'shape': (921100,),\n",
       "       'dtype': 'float64'},\n",
       "      'Time': {'shape': (921100,), 'dtype': 'float64'}},\n",
       "     'DigitalIO': {'DIO02': {'shape': (9211000,), 'dtype': 'float64'},\n",
       "      'DIO05': {'shape': (9211000,), 'dtype': 'float64'},\n",
       "      'DIO06': {'shape': (9211000,), 'dtype': 'float64'},\n",
       "      'Time': {'shape': (9211000,), 'dtype': 'float64'}},\n",
       "     'LockInAOUT01': {'AIN01': {'shape': (92070,), 'dtype': 'float64'},\n",
       "      'Time': {'shape': (92070,), 'dtype': 'float64'}},\n",
       "     'LockInAOUT02': {'AIN01': {'shape': (92070,), 'dtype': 'float64'},\n",
       "      'Time': {'shape': (92070,), 'dtype': 'float64'}}}}}}}"
      ]
     },
     "execution_count": 5,
     "metadata": {},
     "output_type": "execute_result"
    }
   ],
   "source": [
    "import h5py\n",
    "\n",
    "# Open the H5 file to inspect its structure\n",
    "# file_path = '/home/coder/project/doric_fiberphotometry/Data/CS258_NAc_CS_WL20p_July24_0001_130628720_incomplete.doric'\n",
    "file_path = '/home/coder/project/doric_fiberphotometry/Data/Knob/258_NAc_knob_Apr25_0000_153852396_incomplete.doric'\n",
    "h5_file = h5py.File(file_path, 'r')\n",
    "\n",
    "# Function to recursively explore the structure of the H5 file\n",
    "def explore_h5_structure(h5_group, indent=0):\n",
    "    structure = {}\n",
    "    for key in h5_group.keys():\n",
    "        item = h5_group[key]\n",
    "        if isinstance(item, h5py.Group):\n",
    "            structure[key] = explore_h5_structure(item, indent + 2)\n",
    "        elif isinstance(item, h5py.Dataset):\n",
    "            structure[key] = {\n",
    "                \"shape\": item.shape,\n",
    "                \"dtype\": str(item.dtype)\n",
    "            }\n",
    "    return structure\n",
    "\n",
    "# Explore the root group\n",
    "h5_structure = explore_h5_structure(h5_file)\n",
    "h5_file.close()\n",
    "\n",
    "h5_structure\n"
   ]
  }
 ],
 "metadata": {
  "kernelspec": {
   "display_name": "Python 3",
   "language": "python",
   "name": "python3"
  },
  "language_info": {
   "codemirror_mode": {
    "name": "ipython",
    "version": 3
   },
   "file_extension": ".py",
   "mimetype": "text/x-python",
   "name": "python",
   "nbconvert_exporter": "python",
   "pygments_lexer": "ipython3",
   "version": "3.9.2"
  }
 },
 "nbformat": 4,
 "nbformat_minor": 2
}
